{
 "cells": [
  {
   "cell_type": "code",
   "execution_count": 9,
   "metadata": {},
   "outputs": [
    {
     "name": "stderr",
     "output_type": "stream",
     "text": [
      "usage: jupyter [-h] [--version] [--config-dir] [--data-dir] [--runtime-dir]\n",
      "               [--paths] [--json] [--debug]\n",
      "               [subcommand]\n",
      "\n",
      "Jupyter: Interactive Computing\n",
      "\n",
      "positional arguments:\n",
      "  subcommand     the subcommand to launch\n",
      "\n",
      "options:\n",
      "  -h, --help     show this help message and exit\n",
      "  --version      show the versions of core jupyter packages and exit\n",
      "  --config-dir   show Jupyter config dir\n",
      "  --data-dir     show Jupyter data dir\n",
      "  --runtime-dir  show Jupyter runtime dir\n",
      "  --paths        show all Jupyter paths. Add --json for machine-readable\n",
      "                 format.\n",
      "  --json         output paths as machine-readable json\n",
      "  --debug        output debug information about paths\n",
      "\n",
      "Available subcommands: kernel kernelspec migrate run script troubleshoot\n",
      "\n",
      "Jupyter command `jupyter-nbextension` not found.\n"
     ]
    }
   ],
   "source": [
    "import PIL\n",
    "import imageio\n",
    "import diffusers\n",
    "import numpy as np\n",
    "from PIL import Image\n",
    "from tqdm.auto import tqdm\n",
    "import matplotlib.pyplot as plt\n",
    "from ipywidgets import interactive, fixed\n",
    "from IPython.display import Image, display, clear_output\n",
    "\n",
    "\n",
    "import torch\n",
    "from torchmetrics.image.inception import InceptionScore\n",
    "from torchmetrics.image.fid import FrechetInceptionDistance\n",
    "\n",
    "from datasets import load_dataset\n",
    "from transformers import VisionEncoderDecoderModel, ViTImageProcessor, AutoTokenizer\n",
    "from diffusers import (DDIMScheduler, PNDMScheduler, EulerDiscreteScheduler, \n",
    "                       DPMSolverMultistepScheduler, HeunDiscreteScheduler, \n",
    "                       EulerAncestralDiscreteScheduler)\n",
    "from diffusers import AutoPipelineForText2Image\n",
    "import ipywidgets as widgets\n",
    "\n",
    "# Manually enabling the ipywidgets\n",
    "# (in case the widgets still do not get displayed correctly, have a look at https://ipywidgets.readthedocs.io/en/latest/user_install.html)\n",
    "!jupyter nbextension enable --py widgetsnbextension"
   ]
  },
  {
   "cell_type": "code",
   "execution_count": 8,
   "metadata": {},
   "outputs": [],
   "source": [
    "def generate_images(prompt, num_images, scheduler, steps):\n",
    "    device = \"cuda\" if torch.cuda.is_available() else \"cpu\"\n",
    "    pipeline = AutoPipelineForText2Image.from_pretrained(\"runwayml/stable-diffusion-v1-5\").to(device)\n",
    "\n",
    "    # Load the LoRA weights for the model\n",
    "    pipeline.load_lora_weights(\"Checkpoint_L1/checkpoint-250\", weight_name=\"pytorch_lora_weights.safetensors\")\n",
    "\n",
    "    # Set scheduler \n",
    "    if scheduler == \"DDIM\":\n",
    "        pipeline.scheduler = DDIMScheduler.from_pretrained(\"runwayml/stable-diffusion-v1-5\", subfolder=\"scheduler\")\n",
    "    elif scheduler == \"PNDM\":\n",
    "        pipeline.scheduler = PNDMScheduler.from_pretrained(\"runwayml/stable-diffusion-v1-5\", subfolder=\"scheduler\")\n",
    "    elif scheduler == \"EulerDiscrete\":\n",
    "        pipeline.scheduler = EulerDiscreteScheduler.from_pretrained(\"runwayml/stable-diffusion-v1-5\", subfolder=\"scheduler\")\n",
    "    elif scheduler == \"DPMSolverMultistep\":\n",
    "        pipeline.scheduler = DPMSolverMultistepScheduler.from_pretrained(\"runwayml/stable-diffusion-v1-5\", subfolder=\"scheduler\")\n",
    "    elif scheduler == \"HeunDiscrete\":\n",
    "        pipeline.scheduler = HeunDiscreteScheduler.from_pretrained(\"runwayml/stable-diffusion-v1-5\", subfolder=\"scheduler\")\n",
    "    elif scheduler == \"EulerAncestralDiscrete\":\n",
    "        pipeline.scheduler = EulerAncestralDiscreteScheduler.from_pretrained(\"runwayml/stable-diffusion-v1-5\", subfolder=\"scheduler\")\n",
    "\n",
    "    # Generate images based on the prompt\n",
    "    images = []\n",
    "    for _ in range(num_images):\n",
    "        image = pipeline(prompt, num_inference_steps=steps).images[0]\n",
    "        images.append(image)\n",
    "    return images\n"
   ]
  },
  {
   "cell_type": "code",
   "execution_count": 10,
   "metadata": {},
   "outputs": [
    {
     "data": {
      "application/vnd.jupyter.widget-view+json": {
       "model_id": "ffe05549f2f2482598dc50e697aec990",
       "version_major": 2,
       "version_minor": 0
      },
      "text/plain": [
       "interactive(children=(Textarea(value='', description='Prompt:', placeholder='Enter your prompt...'), IntSlider…"
      ]
     },
     "metadata": {},
     "output_type": "display_data"
    }
   ],
   "source": [
    "def display_images(prompt, num_images, steps, scheduler):\n",
    "    images = generate_images(prompt, num_images, scheduler, steps)\n",
    "    for idx, img in enumerate(images):\n",
    "        display(img)\n",
    "        img.save(f\"generated_image_{idx+1}.png\")\n",
    "\n",
    "# Create interactive widgets\n",
    "interactive_plot = interactive(display_images,\n",
    "                               prompt=widgets.Textarea(value='', placeholder='Enter your prompt...', description='Prompt:'),\n",
    "                               num_images=widgets.IntSlider(value=1, min=1, max=10, step=1, description='Num Images:'),\n",
    "                               steps=widgets.IntSlider(value=50, min=1, max=100, step=1, description='Inference Steps:'),\n",
    "                               scheduler=widgets.Dropdown(options=[\"DDIM\", \"PLMS\", \"Euler\", \"Euler a\", \"LMS\", \"Heun\", \"DPM2\", \"DPM2 a\", \"DPM++\", \"DPM++ a\"], value='DDIM', description='Scheduler:'))\n",
    "\n",
    "# Display the interactive widgets\n",
    "display(interactive_plot)\n",
    "\n"
   ]
  },
  {
   "cell_type": "code",
   "execution_count": null,
   "metadata": {},
   "outputs": [],
   "source": [
    "import torch\n",
    "from transformers import AutoPipelineForText2Image\n",
    "from ipywidgets import widgets, interactive, VBox, HBox, Output, Button\n",
    "from IPython.display import display\n",
    "\n",
    "def generate_images(prompt, num_images, scheduler, steps):\n",
    "    device = \"cuda\" if torch.cuda.is_available() else \"cpu\"\n",
    "    pipeline = AutoPipelineForText2Image.from_pretrained(\"runwayml/stable-diffusion-v1-5\").to(device)\n",
    "\n",
    "    # Load the LoRA weights for the model\n",
    "    pipeline.load_lora_weights(\"Checkpoint_L1/checkpoint-250\", weight_name=\"pytorch_lora_weights.safetensors\")\n",
    "\n",
    "    # Set scheduler \n",
    "    if scheduler == \"DDIM\":\n",
    "        pipeline.scheduler = DDIMScheduler.from_pretrained(\"runwayml/stable-diffusion-v1-5\", subfolder=\"scheduler\")\n",
    "    elif scheduler == \"PNDM\":\n",
    "        pipeline.scheduler = PNDMScheduler.from_pretrained(\"runwayml/stable-diffusion-v1-5\", subfolder=\"scheduler\")\n",
    "    elif scheduler == \"EulerDiscrete\":\n",
    "        pipeline.scheduler = EulerDiscreteScheduler.from_pretrained(\"runwayml/stable-diffusion-v1-5\", subfolder=\"scheduler\")\n",
    "    elif scheduler == \"DPMSolverMultistep\":\n",
    "        pipeline.scheduler = DPMSolverMultistepScheduler.from_pretrained(\"runwayml/stable-diffusion-v1-5\", subfolder=\"scheduler\")\n",
    "    elif scheduler == \"HeunDiscrete\":\n",
    "        pipeline.scheduler = HeunDiscreteScheduler.from_pretrained(\"runwayml/stable-diffusion-v1-5\", subfolder=\"scheduler\")\n",
    "    elif scheduler == \"EulerAncestralDiscrete\":\n",
    "        pipeline.scheduler = EulerAncestralDiscreteScheduler.from_pretrained(\"runwayml/stable-diffusion-v1-5\", subfolder=\"scheduler\")\n",
    "\n",
    "    # Generate images based on the prompt\n",
    "    images = []\n",
    "    for _ in range(num_images):\n",
    "        image = pipeline(prompt, num_inference_steps=steps).images[0]\n",
    "        images.append(image)\n",
    "    return images\n",
    "\n",
    "def display_images(prompt, num_images, steps, scheduler):\n",
    "    images = generate_images(prompt, num_images, scheduler, steps)\n",
    "    for idx, img in enumerate(images):\n",
    "        display(img)\n",
    "        img.save(f\"generated_image_{idx+1}.png\")\n",
    "\n",
    "# Create widgets\n",
    "prompt_widget = widgets.Textarea(value='', placeholder='Enter your prompt...', description='Prompt:')\n",
    "num_images_widget = widgets.IntSlider(value=1, min=1, max=10, step=1, description='Num Images:')\n",
    "steps_widget = widgets.IntSlider(value=50, min=1, max=100, step=1, description='Inference Steps:')\n",
    "scheduler_widget = widgets.Dropdown(options=[\"DDIM\", \"PNDM\", \"EulerDiscrete\", \"DPMSolverMultistep\", \"HeunDiscrete\", \"EulerAncestralDiscrete\"], value='DDIM', description='Scheduler:')\n",
    "generate_button = Button(description=\"Generate\")\n",
    "output = Output()\n",
    "\n",
    "# Define the function to be triggered by the button\n",
    "def on_generate_button_clicked(b):\n",
    "    with output:\n",
    "        output.clear_output()\n",
    "        display_images(prompt_widget.value, num_images_widget.value, steps_widget.value, scheduler_widget.value)\n",
    "\n",
    "generate_button.on_click(on_generate_button_clicked)\n",
    "\n",
    "# Display the widgets and button\n",
    "display(VBox([prompt_widget, num_images_widget, steps_widget, scheduler_widget, generate_button, output]))\n"
   ]
  }
 ],
 "metadata": {
  "kernelspec": {
   "display_name": "Bachelor",
   "language": "python",
   "name": "python3"
  },
  "language_info": {
   "codemirror_mode": {
    "name": "ipython",
    "version": 3
   },
   "file_extension": ".py",
   "mimetype": "text/x-python",
   "name": "python",
   "nbconvert_exporter": "python",
   "pygments_lexer": "ipython3",
   "version": "3.12.3"
  }
 },
 "nbformat": 4,
 "nbformat_minor": 2
}

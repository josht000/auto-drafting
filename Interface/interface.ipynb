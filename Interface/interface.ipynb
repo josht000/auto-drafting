{
 "cells": [
  {
   "cell_type": "markdown",
   "metadata": {},
   "source": [
    "# Floor Plan Generator\n",
    "\n",
    "This notebook provides an interface to generate floor plans. You can input a text prompt, choose the number of images to generate, select the inference steps, and pick the scheduler."
   ]
  },
  {
   "cell_type": "markdown",
   "metadata": {},
   "source": [
    "### Imports"
   ]
  },
  {
   "cell_type": "code",
   "execution_count": 2,
   "metadata": {},
   "outputs": [],
   "source": [
    "from diffusers import (DDIMScheduler, PNDMScheduler, EulerDiscreteScheduler, \n",
    "                       DPMSolverMultistepScheduler, HeunDiscreteScheduler, \n",
    "                       EulerAncestralDiscreteScheduler)\n",
    "from diffusers import AutoPipelineForText2Image\n",
    "import ipywidgets as widgets\n",
    "import torch\n",
    "from ipywidgets import widgets, VBox, Output, Button\n",
    "from IPython.display import display"
   ]
  },
  {
   "cell_type": "markdown",
   "metadata": {},
   "source": [
    "### Define necessary functions"
   ]
  },
  {
   "cell_type": "code",
   "execution_count": 3,
   "metadata": {},
   "outputs": [],
   "source": [
    "def generate_images(prompt, num_images, scheduler, steps):\n",
    "    \"\"\"\n",
    "    Generates images based on the given prompt using a text-to-image model.\n",
    "\n",
    "    Args:\n",
    "        prompt (str): The text prompt for generating the images.\n",
    "        num_images (int): The number of images to generate.\n",
    "        scheduler (str): The type of scheduler to use for the diffusion model.\n",
    "        steps (int): The number of inference steps to perform.\n",
    "\n",
    "    Returns:\n",
    "        list: A list of generated images.\n",
    "    \"\"\"\n",
    "    device = \"cuda\" if torch.cuda.is_available() else \"cpu\"\n",
    "    pipeline = AutoPipelineForText2Image.from_pretrained(\"runwayml/stable-diffusion-v1-5\").to(device)\n",
    "\n",
    "    # Load the LoRA weights for the model\n",
    "    pipeline.load_lora_weights(\"C:/Users/see/Documents/GitHub/Diffusion-Models-for-floor-plan-drafting/Checkpoints_L1/checkpoint-250\", weight_name=\"pytorch_lora_weights.safetensors\")\n",
    "\n",
    "    # Set scheduler \n",
    "    if scheduler == \"DDIM\":\n",
    "        pipeline.scheduler = DDIMScheduler.from_pretrained(\"runwayml/stable-diffusion-v1-5\", subfolder=\"scheduler\")\n",
    "    elif scheduler == \"PNDM\":\n",
    "        pipeline.scheduler = PNDMScheduler.from_pretrained(\"runwayml/stable-diffusion-v1-5\", subfolder=\"scheduler\")\n",
    "    elif scheduler == \"EulerDiscrete\":\n",
    "        pipeline.scheduler = EulerDiscreteScheduler.from_pretrained(\"runwayml/stable-diffusion-v1-5\", subfolder=\"scheduler\")\n",
    "    elif scheduler == \"DPMSolverMultistep\":\n",
    "        pipeline.scheduler = DPMSolverMultistepScheduler.from_pretrained(\"runwayml/stable-diffusion-v1-5\", subfolder=\"scheduler\")\n",
    "    elif scheduler == \"HeunDiscrete\":\n",
    "        pipeline.scheduler = HeunDiscreteScheduler.from_pretrained(\"runwayml/stable-diffusion-v1-5\", subfolder=\"scheduler\")\n",
    "    elif scheduler == \"EulerAncestralDiscrete\":\n",
    "        pipeline.scheduler = EulerAncestralDiscreteScheduler.from_pretrained(\"runwayml/stable-diffusion-v1-5\", subfolder=\"scheduler\")\n",
    "\n",
    "    # Generate images based on the prompt\n",
    "    images = []\n",
    "    for _ in range(num_images):\n",
    "        image = pipeline(prompt, num_inference_steps=steps).images[0]\n",
    "        images.append(image)\n",
    "    return images\n",
    "\n",
    "def display_images(prompt, num_images, steps, scheduler):\n",
    "    \"\"\"\n",
    "    Display a series of generated images.\n",
    "\n",
    "    Args:\n",
    "        prompt (str): The prompt for generating the images.\n",
    "        num_images (int): The number of images to generate and display.\n",
    "        steps (int): The number of steps to perform during image generation.\n",
    "        scheduler: The scheduler used for generating the images.\n",
    "    \"\"\"\n",
    "    images = generate_images(prompt, num_images, scheduler, steps)\n",
    "    for idx, img in enumerate(images):\n",
    "        display(img)\n",
    "        "
   ]
  },
  {
   "cell_type": "markdown",
   "metadata": {},
   "source": [
    "### Create Widgets and Button"
   ]
  },
  {
   "cell_type": "code",
   "execution_count": 4,
   "metadata": {},
   "outputs": [],
   "source": [
    "# Create widgets\n",
    "prompt_widget = widgets.Textarea(value='', placeholder='Enter your prompt...', description='Prompt:')\n",
    "num_images_widget = widgets.IntSlider(value=1, min=1, max=4, step=1, description='Number of Images:')\n",
    "steps_widget = widgets.IntSlider(value=50, min=1, max=100, step=1, description='Inference Steps:')\n",
    "scheduler_widget = widgets.Dropdown(options=[\"DDIM\", \"PNDM\", \"EulerDiscrete\", \"DPMSolverMultistep\", \"HeunDiscrete\", \"EulerAncestralDiscrete\"], value='DDIM', description='Scheduler:')\n",
    "generate_button = Button(description=\"Generate\")\n",
    "output = Output()\n",
    "\n",
    "# Define the function to be triggered by the button\n",
    "def on_generate_button_clicked(b):\n",
    "    \"\"\"\n",
    "    Event handler for the generate button click event.\n",
    "\n",
    "    This function clears the output widget and displays the generated images based on the user's input.\n",
    "\n",
    "    Parameters:\n",
    "    - b: The button object that triggered the event.\n",
    "    \"\"\"\n",
    "    with output:\n",
    "        output.clear_output()\n",
    "        display_images(prompt_widget.value, num_images_widget.value, steps_widget.value, scheduler_widget.value)\n",
    "\n",
    "generate_button.on_click(on_generate_button_clicked)"
   ]
  },
  {
   "cell_type": "markdown",
   "metadata": {},
   "source": [
    "### Display interface"
   ]
  },
  {
   "cell_type": "code",
   "execution_count": 5,
   "metadata": {},
   "outputs": [
    {
     "data": {
      "application/vnd.jupyter.widget-view+json": {
       "model_id": "c353d578c21848dcb0c550db14fb8eac",
       "version_major": 2,
       "version_minor": 0
      },
      "text/plain": [
       "VBox(children=(Textarea(value='', description='Prompt:', placeholder='Enter your prompt...'), IntSlider(value=…"
      ]
     },
     "metadata": {},
     "output_type": "display_data"
    }
   ],
   "source": [
    "# Display the widgets and button\n",
    "display(VBox([prompt_widget, num_images_widget, steps_widget, scheduler_widget, generate_button, output]))"
   ]
  }
 ],
 "metadata": {
  "kernelspec": {
   "display_name": "Bachelor",
   "language": "python",
   "name": "python3"
  },
  "language_info": {
   "codemirror_mode": {
    "name": "ipython",
    "version": 3
   },
   "file_extension": ".py",
   "mimetype": "text/x-python",
   "name": "python",
   "nbconvert_exporter": "python",
   "pygments_lexer": "ipython3",
   "version": "3.12.3"
  }
 },
 "nbformat": 4,
 "nbformat_minor": 2
}

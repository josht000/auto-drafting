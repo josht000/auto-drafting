{
 "cells": [
  {
   "cell_type": "markdown",
   "metadata": {},
   "source": [
    "# Floor Plan Generator\n",
    "\n",
    "This notebook provides an interface to generate floor plans. You can input a text prompt, choose the number of images to generate, select the inference steps, and pick the scheduler.\n"
   ]
  },
  {
   "cell_type": "markdown",
   "metadata": {},
   "source": [
    "### Imports"
   ]
  },
  {
   "cell_type": "code",
   "execution_count": null,
   "metadata": {},
   "outputs": [],
   "source": [
    "import torch\n",
    "from diffusers import StableDiffusionPipeline\n",
    "from IPython.display import display\n",
    "from PIL import Image\n",
    "import ipywidgets as widgets"
   ]
  },
  {
   "cell_type": "markdown",
   "metadata": {},
   "source": [
    "### Image generation funtion"
   ]
  },
  {
   "cell_type": "code",
   "execution_count": null,
   "metadata": {},
   "outputs": [],
   "source": [
    "def generate_images(prompt, num_images, scheduler, steps):\n",
    "    pipeline = StableDiffusionPipeline.from_pretrained(\"runwayml/stable-diffusion-v1-5\", torch_dtype=torch.float16).to(\"cuda\")\n",
    "\n",
    "    # Load the LoRA weights for the model\n",
    "    pipeline.load_lora_weights(\"Checkpoint_L1/checkpoint-250\", weight_name=\"pytorch_lora_weights.safetensors\")\n",
    "\n",
    "    # Set the scheduler\n",
    "    if scheduler == \"DDIM\":\n",
    "        pipeline.scheduler = pipeline.scheduler.from_pretrained(\"CompVis/stable-diffusion-v1-4\", subfolder=\"scheduler_ddim\")\n",
    "    # Add other schedulers as needed\n",
    "\n",
    "    # Generate images based on the prompt\n",
    "    images = []\n",
    "    for _ in range(num_images):\n",
    "        image = pipeline(prompt, num_inference_steps=steps, guidance_scale=7.5).images[0]\n",
    "        images.append(image)\n",
    "    return images\n"
   ]
  },
  {
   "cell_type": "markdown",
   "metadata": {},
   "source": [
    "### Inputs"
   ]
  },
  {
   "cell_type": "code",
   "execution_count": null,
   "metadata": {},
   "outputs": [],
   "source": [
    "# Textbox for prompt\n",
    "prompt_widget = widgets.Textarea(\n",
    "    value='',\n",
    "    placeholder='Enter your prompt...',\n",
    "    description='Prompt:',\n",
    "    disabled=False\n",
    ")\n",
    "\n",
    "# Slider for number of images\n",
    "num_images_widget = widgets.IntSlider(\n",
    "    value=1,\n",
    "    min=1,\n",
    "    max=4,\n",
    "    step=1,\n",
    "    description='Num Images:',\n",
    "    disabled=False,\n",
    "    continuous_update=False,\n",
    "    orientation='horizontal',\n",
    "    readout=True,\n",
    "    readout_format='d'\n",
    ")\n",
    "\n",
    "# Slider for inference steps\n",
    "steps_widget = widgets.IntSlider(\n",
    "    value=50,\n",
    "    min=1,\n",
    "    max=100,\n",
    "    step=1,\n",
    "    description='Inference Steps:',\n",
    "    disabled=False,\n",
    "    continuous_update=False,\n",
    "    orientation='horizontal',\n",
    "    readout=True,\n",
    "    readout_format='d'\n",
    ")\n",
    "\n",
    "# Dropdown for scheduler\n",
    "scheduler_widget = widgets.Dropdown(\n",
    "    options=[\"DDIM\", \"PNDM\", \"K_EULER\", \"DPMSolverMultistep\", \"HeunDiscrete\", \"K_EULER_ANCESTRAL\"],\n",
    "    value='DDIM',\n",
    "    description='Scheduler:',\n",
    "    disabled=False,\n",
    ")\n",
    "\n",
    "# Display widgets\n",
    "display(prompt_widget, num_images_widget, steps_widget, scheduler_widget)\n"
   ]
  },
  {
   "cell_type": "markdown",
   "metadata": {},
   "source": [
    "## Generate and display images"
   ]
  },
  {
   "cell_type": "code",
   "execution_count": null,
   "metadata": {},
   "outputs": [],
   "source": [
    "# Button to generate images\n",
    "generate_button = widgets.Button(\n",
    "    description='Generate Images',\n",
    "    disabled=False,\n",
    "    button_style='', # 'success', 'info', 'warning', 'danger' or ''\n",
    "    tooltip='Click to generate images',\n",
    "    icon='check'\n",
    ")\n",
    "\n",
    "# Output widget to display images\n",
    "output = widgets.Output()\n",
    "\n",
    "# Function to handle button click\n",
    "def on_button_click(b):\n",
    "    with output:\n",
    "        output.clear_output()\n",
    "        prompt = prompt_widget.value\n",
    "        num_images = num_images_widget.value\n",
    "        steps = steps_widget.value\n",
    "        scheduler = scheduler_widget.value\n",
    "        \n",
    "        images = generate_images(prompt, num_images, scheduler, steps)\n",
    "        for idx, img in enumerate(images):\n",
    "            display(img)\n",
    "            img.save(f\"generated_image_{idx+1}.png\")\n",
    "\n",
    "generate_button.on_click(on_button_click)\n",
    "\n",
    "# Display button and output\n",
    "display(generate_button, output)\n",
    "\n"
   ]
  }
 ],
 "metadata": {
  "kernelspec": {
   "display_name": "base",
   "language": "python",
   "name": "python3"
  },
  "language_info": {
   "name": "python",
   "version": "3.9.19"
  }
 },
 "nbformat": 4,
 "nbformat_minor": 2
}

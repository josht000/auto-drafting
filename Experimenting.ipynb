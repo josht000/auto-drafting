{
 "cells": [
  {
   "cell_type": "code",
   "execution_count": 1,
   "metadata": {},
   "outputs": [
    {
     "name": "stderr",
     "output_type": "stream",
     "text": [
      "A matching Triton is not available, some optimizations will not be enabled.\n",
      "Error caught was: No module named 'triton'\n"
     ]
    }
   ],
   "source": [
    "import PIL\n",
    "import imageio\n",
    "import diffusers\n",
    "import numpy as np\n",
    "from PIL import Image\n",
    "from tqdm.auto import tqdm\n",
    "import matplotlib.pyplot as plt\n",
    "from ipywidgets import interactive, fixed\n",
    "from IPython.display import Image, display, clear_output\n",
    "\n",
    "\n",
    "import torch\n",
    "from torchmetrics.image.inception import InceptionScore\n",
    "from torchmetrics.image.fid import FrechetInceptionDistance\n",
    "\n",
    "from datasets import load_dataset\n",
    "from transformers import VisionEncoderDecoderModel, ViTImageProcessor, AutoTokenizer\n",
    "from diffusers import (\n",
    "    DiffusionPipeline,\n",
    "    StableDiffusionPipeline,\n",
    "    EulerDiscreteScheduler,\n",
    "    PNDMScheduler,\n",
    "    LMSDiscreteScheduler,\n",
    ")"
   ]
  },
  {
   "cell_type": "code",
   "execution_count": 2,
   "metadata": {},
   "outputs": [
    {
     "name": "stdout",
     "output_type": "stream",
     "text": [
      "Using device: cuda\n"
     ]
    }
   ],
   "source": [
    "# Use cuda if GPU is available\n",
    "if torch.cuda.is_available():\n",
    "    DEVICE = \"cuda\"\n",
    "else:\n",
    "    DEVICE = \"cpu\"\n",
    "\n",
    "print(f\"Using device: {DEVICE}\")"
   ]
  },
  {
   "cell_type": "code",
   "execution_count": 3,
   "metadata": {},
   "outputs": [],
   "source": [
    "diffusion_model = DiffusionPipeline()\n",
    "\n",
    "\n",
    "def load_model(model_name: str, device: str = DEVICE):\n",
    "    \"\"\"Function that loads a pretrained model from the HuggingFace model hub and moves it to the specified device\n",
    "\n",
    "    Arguments:\n",
    "        model_name (str): Name of the model to load\n",
    "        device (str): Device to move the model to\n",
    "    \"\"\"\n",
    "\n",
    "    # Define as global so that changes made within the function are also applied outside of it\n",
    "    global diffusion_model\n",
    "\n",
    "    diffusion_model = DiffusionPipeline.from_pretrained(\n",
    "        pretrained_model_name_or_path=model_name\n",
    "    )\n",
    "    diffusion_model.to(device)"
   ]
  },
  {
   "cell_type": "code",
   "execution_count": 4,
   "metadata": {},
   "outputs": [
    {
     "data": {
      "application/vnd.jupyter.widget-view+json": {
       "model_id": "a893800099544628bc6ceaf6f37208e1",
       "version_major": 2,
       "version_minor": 0
      },
      "text/plain": [
       "interactive(children=(Dropdown(description='model_name', options=('anton-l/ddpm-butterflies-128', 'anton-l/ddp…"
      ]
     },
     "execution_count": 4,
     "metadata": {},
     "output_type": "execute_result"
    }
   ],
   "source": [
    "interactive(\n",
    "    load_model,\n",
    "    {\"manual\": True},\n",
    "    model_name=[\n",
    "        \"anton-l/ddpm-butterflies-128\",\n",
    "        \"anton-l/ddpm-ema-pokemon-64\",\n",
    "        \"google/ddpm-ema-church-256\",\n",
    "        \"google/ddpm-celebahq-256\",\n",
    "        \"WiNE-iNEFF/Minecraft-Skin-Diffusion-V2\",\n",
    "    ],\n",
    "    device=fixed(DEVICE),\n",
    ")"
   ]
  }
 ],
 "metadata": {
  "kernelspec": {
   "display_name": "base",
   "language": "python",
   "name": "python3"
  },
  "language_info": {
   "codemirror_mode": {
    "name": "ipython",
    "version": 3
   },
   "file_extension": ".py",
   "mimetype": "text/x-python",
   "name": "python",
   "nbconvert_exporter": "python",
   "pygments_lexer": "ipython3",
   "version": "3.9.19"
  }
 },
 "nbformat": 4,
 "nbformat_minor": 2
}
